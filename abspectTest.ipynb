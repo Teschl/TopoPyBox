{
 "cells": [
  {
   "cell_type": "code",
   "execution_count": null,
   "id": "5487a9b8-60af-4b21-bb79-ffc5bd71f0fa",
   "metadata": {},
   "outputs": [],
   "source": [
    "import numpy as np\n",
    "import topoBoxPy as topo"
   ]
  },
  {
   "cell_type": "code",
   "execution_count": null,
   "id": "521bf7ef",
   "metadata": {},
   "outputs": [],
   "source": [
    "DEM = topo.Grid(\"/home/theo/Documents/Praktikum/Harz_utm.tif\")\n",
    "DEM.info()\n",
    "DEM.imagesc()"
   ]
  },
  {
   "cell_type": "code",
   "execution_count": null,
   "id": "a6fb4176",
   "metadata": {},
   "outputs": [],
   "source": [
    "G = DEM.gradient8(\"tan\")\n",
    "G.imagesc()"
   ]
  },
  {
   "cell_type": "code",
   "execution_count": null,
   "id": "7629db27",
   "metadata": {},
   "outputs": [],
   "source": [
    "G = DEM.gradient8(\"rad\")\n",
    "G.imagesc()"
   ]
  },
  {
   "cell_type": "code",
   "execution_count": null,
   "id": "ed488ecb",
   "metadata": {},
   "outputs": [],
   "source": [
    "G = DEM.gradient8(\"deg\")\n",
    "G.imagesc()"
   ]
  },
  {
   "cell_type": "code",
   "execution_count": null,
   "id": "97eaf122",
   "metadata": {},
   "outputs": [],
   "source": [
    "G = DEM.gradient8(\"sin\")\n",
    "G.imagesc()"
   ]
  },
  {
   "cell_type": "code",
   "execution_count": null,
   "id": "1f95b8d3",
   "metadata": {},
   "outputs": [],
   "source": [
    "G = DEM.gradient8(\"per\")\n",
    "G.imagesc()"
   ]
  },
  {
   "cell_type": "code",
   "execution_count": null,
   "id": "f9b44976",
   "metadata": {},
   "outputs": [],
   "source": [
    "G1 = topo.Grid(\"/home/theo/Documents/Praktikum/Harz_utm.tif\")\n",
    "G2 = topo.Grid(\"/home/theo/Documents/Praktikum/Harz_utm.tif\")\n",
    "\n",
    "rows, columns = G1.z.shape\n",
    "random_array1 = np.random.randint(2, size=(rows, columns))\n",
    "random_array2 = np.random.randint(2, size=(rows, columns))\n",
    "\n",
    "G1.z = random_array1\n",
    "G2.z = random_array2\n",
    "\n",
    "G3 = G1.andGrid(G2)\n",
    "\n",
    "G1.imagesc()\n",
    "G2.imagesc()\n",
    "G3.imagesc()"
   ]
  }
 ],
 "metadata": {
  "kernelspec": {
   "display_name": "Python 3 (ipykernel)",
   "language": "python",
   "name": "python3"
  },
  "language_info": {
   "codemirror_mode": {
    "name": "ipython",
    "version": 3
   },
   "file_extension": ".py",
   "mimetype": "text/x-python",
   "name": "python",
   "nbconvert_exporter": "python",
   "pygments_lexer": "ipython3",
   "version": "3.10.12"
  }
 },
 "nbformat": 4,
 "nbformat_minor": 5
}
