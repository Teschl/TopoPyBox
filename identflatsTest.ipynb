{
 "cells": [
  {
   "cell_type": "code",
   "execution_count": null,
   "id": "5487a9b8-60af-4b21-bb79-ffc5bd71f0fa",
   "metadata": {},
   "outputs": [],
   "source": [
    "import topoBoxPy as topo"
   ]
  },
  {
   "cell_type": "code",
   "execution_count": null,
   "id": "7d1cafc8",
   "metadata": {},
   "outputs": [],
   "source": [
    "DEM = topo.Grid(\"/home/theo/Documents/Praktikum/Harz_utm.tif\")\n",
    "FLATS, STILLS = DEM.identifyflats()\n",
    "DEM.imagesc()\n",
    "FLATS.imagesc()\n",
    "SILLS.imagesc()"
   ]
  }
 ],
 "metadata": {
  "kernelspec": {
   "display_name": "Python 3 (ipykernel)",
   "language": "python",
   "name": "python3"
  },
  "language_info": {
   "codemirror_mode": {
    "name": "ipython",
    "version": 3
   },
   "file_extension": ".py",
   "mimetype": "text/x-python",
   "name": "python",
   "nbconvert_exporter": "python",
   "pygments_lexer": "ipython3",
   "version": "3.10.12"
  }
 },
 "nbformat": 4,
 "nbformat_minor": 5
}
