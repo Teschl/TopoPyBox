{
 "cells": [
  {
   "cell_type": "code",
   "execution_count": null,
   "metadata": {},
   "outputs": [],
   "source": [
    "import topoBoxPy as topo\n",
    "import numpy as np\n",
    "\n",
    "DEM = topo.GridObject(\"/home/theo/Documents/TopoPyBox/test_files/taalvolcano.tif\")\n",
    "DEM.z = np.array(  [[4, 5, 2],\n",
    "                    [9, 1, 8],\n",
    "                    [3, 7, 6]])\n",
    "FD = topo.FlowObject(DEM)"
   ]
  },
  {
   "cell_type": "code",
   "execution_count": null,
   "metadata": {},
   "outputs": [],
   "source": [
    "print(FD.ix)\n",
    "print(FD.ixc)"
   ]
  }
 ],
 "metadata": {
  "kernelspec": {
   "display_name": "Python 3",
   "language": "python",
   "name": "python3"
  },
  "language_info": {
   "codemirror_mode": {
    "name": "ipython",
    "version": 3
   },
   "file_extension": ".py",
   "mimetype": "text/x-python",
   "name": "python",
   "nbconvert_exporter": "python",
   "pygments_lexer": "ipython3",
   "version": "3.10.12"
  }
 },
 "nbformat": 4,
 "nbformat_minor": 2
}
