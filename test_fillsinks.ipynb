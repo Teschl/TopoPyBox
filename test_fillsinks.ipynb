{
 "cells": [
  {
   "cell_type": "code",
   "execution_count": null,
   "metadata": {},
   "outputs": [],
   "source": [
    "import numpy as np\n",
    "import topoBoxPy as topo"
   ]
  },
  {
   "cell_type": "code",
   "execution_count": null,
   "metadata": {},
   "outputs": [],
   "source": [
    "DEM = topo.GridObject(\"/home/theo/Documents/Praktikum/Harz_utm.tif\")\n",
    "DEM.z = np.array([\n",
    "    [ 1,  3,  7, 10, 12, 10,  7,  5],\n",
    "    [ 2,  5,  6,  6, 10, 10,  2,  3],\n",
    "    [ 4,  6,  7,  5, 10,  9, 10,  6],\n",
    "    [ 7,  5,  6,  7, 10, 10, 10, 10],\n",
    "    [ 9,  7,  8,  8, 10, 10,  8, 12],\n",
    "    [10, 10,  9,  1,  1, 10, 11, 11]\n",
    "])"
   ]
  },
  {
   "cell_type": "code",
   "execution_count": null,
   "metadata": {},
   "outputs": [],
   "source": [
    "DEM.imagesc()\n",
    "DEM.fillsinks().imagesc()"
   ]
  },
  {
   "cell_type": "code",
   "execution_count": null,
   "metadata": {},
   "outputs": [],
   "source": [
    "DIFFDEM = DEM - DEM.fillsinks()\n",
    "DIFFDEM.imagesc()"
   ]
  }
 ],
 "metadata": {
  "kernelspec": {
   "display_name": "Python 3",
   "language": "python",
   "name": "python3"
  },
  "language_info": {
   "codemirror_mode": {
    "name": "ipython",
    "version": 3
   },
   "file_extension": ".py",
   "mimetype": "text/x-python",
   "name": "python",
   "nbconvert_exporter": "python",
   "pygments_lexer": "ipython3",
   "version": "3.10.12"
  }
 },
 "nbformat": 4,
 "nbformat_minor": 2
}
