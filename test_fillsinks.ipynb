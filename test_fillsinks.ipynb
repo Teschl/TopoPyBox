{
 "cells": [
  {
   "cell_type": "code",
   "execution_count": 3,
   "metadata": {},
   "outputs": [],
   "source": [
    "import numpy as np\n",
    "import topoBoxPy as topo"
   ]
  },
  {
   "cell_type": "code",
   "execution_count": 7,
   "metadata": {},
   "outputs": [],
   "source": [
    "DEM = topo.GridObject(\"/home/theo/Documents/Praktikum/Harz_utm.tif\")\n",
    "DEM.z = np.array([\n",
    "    [10, 10, 10, 10, 10, 10,  5, 10],\n",
    "    [10,  5,  3,  6, 10, 10,  2, 10],\n",
    "    [10,  4,  2,  5, 10,  9, 10, 10],\n",
    "    [10,  5,  6,  4, 10, 10, 10, 10],\n",
    "    [10, 10, 10, 10, 10, 10,  8, 10],\n",
    "    [10, 10, 10, 10, 10, 10, 10, 10]\n",
    "])"
   ]
  },
  {
   "cell_type": "code",
   "execution_count": null,
   "metadata": {},
   "outputs": [],
   "source": [
    "DEM.fillsinks().imagesc()"
   ]
  }
 ],
 "metadata": {
  "kernelspec": {
   "display_name": "Python 3",
   "language": "python",
   "name": "python3"
  },
  "language_info": {
   "codemirror_mode": {
    "name": "ipython",
    "version": 3
   },
   "file_extension": ".py",
   "mimetype": "text/x-python",
   "name": "python",
   "nbconvert_exporter": "python",
   "pygments_lexer": "ipython3",
   "version": "3.10.12"
  }
 },
 "nbformat": 4,
 "nbformat_minor": 2
}
