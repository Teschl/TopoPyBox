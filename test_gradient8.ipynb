{
 "cells": [
  {
   "cell_type": "code",
   "execution_count": null,
   "id": "5487a9b8-60af-4b21-bb79-ffc5bd71f0fa",
   "metadata": {},
   "outputs": [],
   "source": [
    "import topoBoxPy as topo\n",
    "\n",
    "DEM = topo.GridObject(\"/home/theo/Documents/Praktikum/Harz_utm.tif\")"
   ]
  },
  {
   "cell_type": "code",
   "execution_count": null,
   "id": "a6fb4176",
   "metadata": {},
   "outputs": [],
   "source": [
    "DEM.gradient8(\"tan\").imagesc()"
   ]
  },
  {
   "cell_type": "code",
   "execution_count": null,
   "id": "7629db27",
   "metadata": {},
   "outputs": [],
   "source": [
    "DEM.gradient8(\"rad\").imagesc()"
   ]
  },
  {
   "cell_type": "code",
   "execution_count": null,
   "id": "ed488ecb",
   "metadata": {},
   "outputs": [],
   "source": [
    "DEM.gradient8(\"deg\").imagesc()"
   ]
  },
  {
   "cell_type": "code",
   "execution_count": null,
   "id": "97eaf122",
   "metadata": {},
   "outputs": [],
   "source": [
    "DEM.gradient8(\"sin\").imagesc()"
   ]
  },
  {
   "cell_type": "code",
   "execution_count": null,
   "id": "1f95b8d3",
   "metadata": {},
   "outputs": [],
   "source": [
    "a = DEM.gradient8(\"per\")\n",
    "a.imagesc()"
   ]
  }
 ],
 "metadata": {
  "kernelspec": {
   "display_name": "Python 3 (ipykernel)",
   "language": "python",
   "name": "python3"
  },
  "language_info": {
   "codemirror_mode": {
    "name": "ipython",
    "version": 3
   },
   "file_extension": ".py",
   "mimetype": "text/x-python",
   "name": "python",
   "nbconvert_exporter": "python",
   "pygments_lexer": "ipython3",
   "version": "3.10.12"
  }
 },
 "nbformat": 4,
 "nbformat_minor": 5
}
