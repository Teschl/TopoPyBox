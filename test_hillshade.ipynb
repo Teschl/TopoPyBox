{
 "cells": [
  {
   "cell_type": "code",
   "execution_count": null,
   "metadata": {},
   "outputs": [],
   "source": [
    "import topoBoxPy as topo"
   ]
  },
  {
   "cell_type": "code",
   "execution_count": null,
   "metadata": {},
   "outputs": [],
   "source": [
    "DEM = topo.GridObject(\"/home/theo/Documents/TopoPyBox/test_files/taalvolcano.tif\")\n",
    "DEM.imagesc(colormap=\"terrain\")\n",
    "DEM.imageschs(colormap=\"terrain\")\n",
    "\n",
    "H = DEM.hillshade()\n",
    "H.imagesc(colormap=\"grey\")"
   ]
  }
 ],
 "metadata": {
  "kernelspec": {
   "display_name": "Python 3",
   "language": "python",
   "name": "python3"
  },
  "language_info": {
   "codemirror_mode": {
    "name": "ipython",
    "version": 3
   },
   "file_extension": ".py",
   "mimetype": "text/x-python",
   "name": "python",
   "nbconvert_exporter": "python",
   "pygments_lexer": "ipython3",
   "version": "3.10.12"
  }
 },
 "nbformat": 4,
 "nbformat_minor": 2
}
