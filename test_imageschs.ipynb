{
 "cells": [
  {
   "cell_type": "code",
   "execution_count": null,
   "metadata": {},
   "outputs": [],
   "source": [
    "import topoBoxPy as topo"
   ]
  },
  {
   "cell_type": "code",
   "execution_count": null,
   "metadata": {},
   "outputs": [],
   "source": [
    "DEM = topo.GridObject(\"/home/theo/Documents/Praktikum/Harz_utm.tif\")\n",
    "DEM.imageschs(\"nancolor\",[0,0,1],\"falsecolor\",[0,1,0],\"truecolor\",[1,0,0])\n",
    "# DEM.imageschs(\"colorbarlabel\",\"Hallo Welt!\")\n",
    "# DEM.imageschs(\"colorbar\", \"true\")"
   ]
  }
 ],
 "metadata": {
  "kernelspec": {
   "display_name": "Python 3",
   "language": "python",
   "name": "python3"
  },
  "language_info": {
   "codemirror_mode": {
    "name": "ipython",
    "version": 3
   },
   "file_extension": ".py",
   "mimetype": "text/x-python",
   "name": "python",
   "nbconvert_exporter": "python",
   "pygments_lexer": "ipython3",
   "version": "3.10.12"
  }
 },
 "nbformat": 4,
 "nbformat_minor": 2
}
